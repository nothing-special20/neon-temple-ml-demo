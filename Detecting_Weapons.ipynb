{
 "cells": [
  {
   "cell_type": "code",
   "execution_count": 4,
   "id": "93c76a3c",
   "metadata": {},
   "outputs": [
    {
     "name": "stderr",
     "output_type": "stream",
     "text": [
      "`text_config_dict` is provided which will be used to initialize `CLIPTextConfig`. The value `text_config[\"id2label\"]` will be overriden.\n",
      "`text_config_dict` is provided which will be used to initialize `CLIPTextConfig`. The value `text_config[\"id2label\"]` will be overriden.\n",
      "Could not find image processor class in the image processor config or the model config. Loading based on pattern matching with the model's feature extractor configuration.\n"
     ]
    }
   ],
   "source": [
    "from transformers import pipeline\n",
    "import cv2\n",
    "import matplotlib.pyplot as plt\n",
    "\n",
    "weapons_folder = 'input_data/weapons/'\n",
    "\n",
    "# this is the documentation on what parameters to pass to a pipeline\n",
    "# https://huggingface.co/docs/transformers/main_classes/pipelines\n",
    "\n",
    "# https://huggingface.co/openai/clip-vit-large-patch14\n",
    "weapons_detection = pipeline(\"zero-shot-image-classification\", model=\"openai/clip-vit-large-patch14\")"
   ]
  },
  {
   "cell_type": "code",
   "execution_count": 17,
   "id": "8b2797ee",
   "metadata": {},
   "outputs": [],
   "source": [
    "knife_behind_back_file = weapons_folder + 'knife_behind_back.png'\n",
    "\n",
    "#read image\n",
    "knife_behind_back = cv2.imread(knife_behind_back_file)\n",
    "\n",
    "weapons_to_look_for = ['gun', 'knife', 'bazooka', 'water gun']\n",
    "\n",
    "hypotheses = [f\"This image contains a {label}\" for label in weapons_to_look_for]\n",
    "\n",
    "knife_result = weapons_detection(images=[knife_behind_back_file], candidate_labels=weapons_to_look_for, hypothesis_templates=hypotheses)\n",
    "# result = weapons_detection(knife_behind_back_file, hypothesis_templates=hypotheses)\n",
    "print(knife_result)\n",
    "plt.imshow(knife_behind_back)"
   ]
  },
  {
   "cell_type": "code",
   "execution_count": 18,
   "id": "a281ceca",
   "metadata": {},
   "outputs": [],
   "source": [
    "bazooka_file = weapons_folder + '1200px-Soldier_with_Bazooka_M1.jpg'\n",
    "\n",
    "bazooka = cv2.imread(bazooka_file)\n",
    "\n",
    "bazooka_result = weapons_detection(images=[bazooka_file], candidate_labels=weapons_to_look_for, hypothesis_templates=hypotheses)\n",
    "\n",
    "print(bazooka_result)\n",
    "plt.imshow(bazooka)"
   ]
  },
  {
   "cell_type": "code",
   "execution_count": 19,
   "id": "d1a803ec",
   "metadata": {},
   "outputs": [],
   "source": [
    "water_gun_file = weapons_folder + 'water_gun.jpeg'\n",
    "\n",
    "water_gun = cv2.imread(water_gun_file)\n",
    "\n",
    "weapons_to_look_for = ['gun', 'knife', 'bazooka']\n",
    "weapons_to_look_for = ['gun', 'knife', 'bazooka', 'water gun']\n",
    "\n",
    "water_gun_result = weapons_detection(images=[water_gun_file], candidate_labels=weapons_to_look_for, hypothesis_templates=hypotheses)\n",
    "\n",
    "print(water_gun_result)\n",
    "plt.imshow(water_gun)"
   ]
  },
  {
   "cell_type": "code",
   "execution_count": 20,
   "metadata": {},
   "outputs": [],
   "source": [
    "angry_dog_file = weapons_folder + '123.jpeg'\n",
    "\n",
    "angry_dog = cv2.imread(angry_dog_file)\n",
    "\n",
    "# weapons_to_look_for = ['gun', 'knife', 'bazooka', 'water gun', 'angry']\n",
    "weapons_to_look_for = ['gun', 'knife', 'bazooka', 'water gun', 'happy']\n",
    "# weapons_to_look_for = ['gun', 'knife', 'bazooka', 'water gun', 'german shepherd']\n",
    "# weapons_to_look_for = ['gun', 'knife', 'bazooka', 'water gun', 'rabies']\n",
    "\n",
    "angry_dog_result = weapons_detection(images=[angry_dog_file], candidate_labels=weapons_to_look_for, hypothesis_templates=hypotheses)\n",
    "\n",
    "print(angry_dog_result)\n",
    "plt.imshow(angry_dog)"
   ]
  }
 ],
 "metadata": {
  "kernelspec": {
   "display_name": "Python 3 (ipykernel)",
   "language": "python",
   "name": "python3"
  },
  "language_info": {
   "codemirror_mode": {
    "name": "ipython",
    "version": 3
   },
   "file_extension": ".py",
   "mimetype": "text/x-python",
   "name": "python",
   "nbconvert_exporter": "python",
   "pygments_lexer": "ipython3",
   "version": "3.11.3"
  }
 },
 "nbformat": 4,
 "nbformat_minor": 5
}
